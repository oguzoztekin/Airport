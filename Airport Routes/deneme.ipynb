{
 "cells": [
  {
   "cell_type": "code",
   "execution_count": 2,
   "metadata": {},
   "outputs": [],
   "source": [
    "import json\n",
    "import pandas as pd\n",
    "import glob\n",
    "import os\n",
    "\n",
    "column_a_list = [] \n",
    "column_b_list = [] \n",
    "column_c_list = []\n",
    "column_d_list = [] \n",
    "column_e_list = [] \n",
    "column_f_list = [] \n",
    "\n",
    "\n",
    "json_files = glob.glob('*.json')\n",
    "\n",
    "for json_filename in json_files:\n",
    "    try:\n",
    "        airport_code = os.path.splitext(json_filename)[0].upper()\n",
    "        column_a = f\"{airport_code}\"\n",
    "        with open(json_filename, 'r', encoding='utf-8') as file:\n",
    "            airports = json.load(file)\n",
    "        for airport in airports:\n",
    "            city = airport.get('city', '').title()\n",
    "            country = airport.get('country', '').title()\n",
    "            iata = airport.get('iata', '').upper()\n",
    "            lat = airport.get('lat', '')\n",
    "            lon = airport.get('lon', '')\n",
    "            if country.lower() == 'turkey': # Türkiye içini eklemek için bunu ayarlamak gerekiyor\n",
    "                continue \n",
    "            column_b = f\"{city}\"\n",
    "            column_c = f\"{country}\"\n",
    "            column_d = f\"{iata}\"\n",
    "            column_e = f\"{lat}\"\n",
    "            column_f = f\"{lon}\"\n",
    "            column_a_list.append(column_a)\n",
    "            column_b_list.append(column_b)\n",
    "            column_c_list.append(column_c)\n",
    "            column_d_list.append(column_d)\n",
    "            column_e_list.append(column_e)\n",
    "            column_f_list.append(column_f)\n",
    "    except json.JSONDecodeError:\n",
    "        print(f\"Skipping file {json_filename} due to JSON decoding error.\")\n",
    "    except Exception as e:\n",
    "        print(f\"Skipping file {json_filename} due to error: {e}\")\n",
    "\n",
    "df = pd.DataFrame({\n",
    "    'IATA': column_a_list,\n",
    "    'Varış Şehri': column_b_list,\n",
    "    'Varış Ülkesi': column_c_list,\n",
    "    'Varış Havaalanı Kodu': column_d_list,\n",
    "    'Latitude': column_e_list,\n",
    "    'Longitude': column_f_list\n",
    "})\n",
    "\n",
    "df.to_excel('Türkiye Dışına Bütün Uçuşlar.xlsx', index=False)"
   ]
  },
  {
   "cell_type": "code",
   "execution_count": null,
   "metadata": {},
   "outputs": [],
   "source": [
    "# If you need turkish inside flight data you have to check other airports:\n",
    "# ADF, AJI, BGG, YEI, BAL, CKZ, ERC, ERZ, IGD, KCM, KFS, MQM, MSR,\n",
    "# MZH, NKT, RZV, SXZ, TJK, VAS, YEI, YKO "
   ]
  },
  {
   "cell_type": "code",
   "execution_count": 30,
   "metadata": {},
   "outputs": [
    {
     "name": "stdout",
     "output_type": "stream",
     "text": [
      "24\n",
      "32\n"
     ]
    }
   ],
   "source": [
    "import json\n",
    "import pandas as pd\n",
    "import glob\n",
    "import os\n",
    "\n",
    "file_path_1 = r\"C:\\Users\\oguzo\\Desktop\\Airport\\Airport Routes\\Data 01-08 October 2024\\Türkiye Dışına Bütün Uçuşlar.xlsx\"\n",
    "file_path_2 = r\"C:\\Users\\oguzo\\Desktop\\Airport\\Airport Routes\\Data 01-08 October 2024\\Türkiye İçine Dahil Bütün Uçuşlar.xlsx\"\n",
    "\n",
    "df1 = pd.read_excel(file_path_1)\n",
    "df2 = pd.read_excel(file_path_2)\n",
    "\n",
    "Yurt_disi_ucanlar = df1['Kalkış Havaalanı Kodu'].dropna().unique().tolist()\n",
    "Hepsi = df2['IATA'].dropna().unique().tolist()\n",
    "\n",
    "print(len(Yurt_disi_ucanlar))\n",
    "print(len(Hepsi))\n"
   ]
  },
  {
   "cell_type": "code",
   "execution_count": 2,
   "metadata": {},
   "outputs": [],
   "source": [
    "import json\n",
    "import pandas as pd\n",
    "import glob\n",
    "import os\n",
    "\n",
    "column_a_list = [] \n",
    "column_b_list = [] \n",
    "column_c_list = []\n",
    "column_d_list = [] \n",
    "column_e_list = [] \n",
    "column_f_list = [] \n",
    "\n",
    "\n",
    "json_files = glob.glob('*.json')\n",
    "\n",
    "for json_filename in json_files:\n",
    "    try:\n",
    "        airport_code = os.path.splitext(json_filename)[0].upper()\n",
    "        column_a = f\"{airport_code}\"\n",
    "        with open(json_filename, 'r', encoding='utf-8') as file:\n",
    "            airports = json.load(file)\n",
    "        for airport in airports:\n",
    "            city = airport.get('city', '').title()\n",
    "            country = airport.get('country', '').title()\n",
    "            iata = airport.get('iata', '').upper()\n",
    "            lat = airport.get('lat', '')\n",
    "            lon = airport.get('lon', '')\n",
    "            if country.lower() == 'turkey': # Türkiye içini eklemek için bunu ayarlamak gerekiyor\n",
    "                continue \n",
    "            column_b = f\"{city}\"\n",
    "            column_c = f\"{country}\"\n",
    "            column_d = f\"{iata}\"\n",
    "            column_e = f\"{lat}\"\n",
    "            column_f = f\"{lon}\"\n",
    "            column_a_list.append(column_a)\n",
    "            column_b_list.append(column_b)\n",
    "            column_c_list.append(column_c)\n",
    "            column_d_list.append(column_d)\n",
    "            column_e_list.append(column_e)\n",
    "            column_f_list.append(column_f)\n",
    "    except json.JSONDecodeError:\n",
    "        print(f\"Skipping file {json_filename} due to JSON decoding error.\")\n",
    "    except Exception as e:\n",
    "        print(f\"Skipping file {json_filename} due to error: {e}\")\n",
    "\n",
    "df = pd.DataFrame({\n",
    "    'IATA': column_a_list,\n",
    "    'Varış Şehri': column_b_list,\n",
    "    'Varış Ülkesi': column_c_list,\n",
    "    'Varış Havaalanı Kodu': column_d_list,\n",
    "    'Latitude': column_e_list,\n",
    "    'Longitude': column_f_list\n",
    "})\n",
    "\n",
    "df.to_excel('Türkiye Dışına Bütün Uçuşlar 09-16 Ekim 2024.xlsx', index=False)"
   ]
  },
  {
   "cell_type": "code",
   "execution_count": 4,
   "metadata": {},
   "outputs": [],
   "source": [
    "import pandas as pd\n",
    "\n",
    "file_path = 'key_to.xlsx'  \n",
    "df = pd.read_excel(file_path)"
   ]
  },
  {
   "cell_type": "code",
   "execution_count": 10,
   "metadata": {},
   "outputs": [
    {
     "ename": "NameError",
     "evalue": "name 'NaN' is not defined",
     "output_type": "error",
     "traceback": [
      "\u001b[1;31m---------------------------------------------------------------------------\u001b[0m",
      "\u001b[1;31mNameError\u001b[0m                                 Traceback (most recent call last)",
      "Cell \u001b[1;32mIn[10], line 1\u001b[0m\n\u001b[1;32m----> 1\u001b[0m df[df[\u001b[38;5;124m\"\u001b[39m\u001b[38;5;124mis it capital (Yes-No)\u001b[39m\u001b[38;5;124m\"\u001b[39m] \u001b[38;5;241m!=\u001b[39m \u001b[43mNaN\u001b[49m]\n",
      "\u001b[1;31mNameError\u001b[0m: name 'NaN' is not defined"
     ]
    }
   ],
   "source": [
    "df[df[\"is it capital (Yes-No)\"] != NaN]"
   ]
  }
 ],
 "metadata": {
  "kernelspec": {
   "display_name": "Python 3",
   "language": "python",
   "name": "python3"
  },
  "language_info": {
   "codemirror_mode": {
    "name": "ipython",
    "version": 3
   },
   "file_extension": ".py",
   "mimetype": "text/x-python",
   "name": "python",
   "nbconvert_exporter": "python",
   "pygments_lexer": "ipython3",
   "version": "3.11.9"
  }
 },
 "nbformat": 4,
 "nbformat_minor": 2
}
