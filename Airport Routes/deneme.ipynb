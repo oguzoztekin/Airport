{
 "cells": [
  {
   "cell_type": "code",
   "execution_count": 2,
   "metadata": {},
   "outputs": [],
   "source": [
    "import json\n",
    "import pandas as pd\n",
    "import glob\n",
    "import os\n",
    "\n",
    "column_a_list = [] \n",
    "column_b_list = [] \n",
    "column_c_list = []\n",
    "column_d_list = [] \n",
    "column_e_list = [] \n",
    "column_f_list = [] \n",
    "\n",
    "\n",
    "json_files = glob.glob('*.json')\n",
    "\n",
    "for json_filename in json_files:\n",
    "    try:\n",
    "        airport_code = os.path.splitext(json_filename)[0].upper()\n",
    "        column_a = f\"{airport_code}\"\n",
    "        with open(json_filename, 'r', encoding='utf-8') as file:\n",
    "            airports = json.load(file)\n",
    "        for airport in airports:\n",
    "            city = airport.get('city', '').title()\n",
    "            country = airport.get('country', '').title()\n",
    "            iata = airport.get('iata', '').upper()\n",
    "            lat = airport.get('lat', '')\n",
    "            lon = airport.get('lon', '')\n",
    "            if country.lower() == 'turkey': # Türkiye içini eklemek için bunu ayarlamak gerekiyor\n",
    "                continue \n",
    "            column_b = f\"{city}\"\n",
    "            column_c = f\"{country}\"\n",
    "            column_d = f\"{iata}\"\n",
    "            column_e = f\"{lat}\"\n",
    "            column_f = f\"{lon}\"\n",
    "            column_a_list.append(column_a)\n",
    "            column_b_list.append(column_b)\n",
    "            column_c_list.append(column_c)\n",
    "            column_d_list.append(column_d)\n",
    "            column_e_list.append(column_e)\n",
    "            column_f_list.append(column_f)\n",
    "    except json.JSONDecodeError:\n",
    "        print(f\"Skipping file {json_filename} due to JSON decoding error.\")\n",
    "    except Exception as e:\n",
    "        print(f\"Skipping file {json_filename} due to error: {e}\")\n",
    "\n",
    "df = pd.DataFrame({\n",
    "    'IATA': column_a_list,\n",
    "    'Varış Şehri': column_b_list,\n",
    "    'Varış Ülkesi': column_c_list,\n",
    "    'Varış Havaalanı Kodu': column_d_list,\n",
    "    'Latitude': column_e_list,\n",
    "    'Longitude': column_f_list\n",
    "})\n",
    "\n",
    "df.to_excel('Türkiye Dışına Bütün Uçuşlar.xlsx', index=False)"
   ]
  },
  {
   "cell_type": "code",
   "execution_count": null,
   "metadata": {},
   "outputs": [],
   "source": [
    "# If you need turkish inside flight data you have to check other airports:\n",
    "# ADF, AJI, BGG, YEI, BAL, CKZ, ERC, ERZ, IGD, KCM, KFS, MQM, MSR,\n",
    "# MZH, NKT, RZV, SXZ, TJK, VAS, YEI, YKO "
   ]
  }
 ],
 "metadata": {
  "kernelspec": {
   "display_name": "Python 3",
   "language": "python",
   "name": "python3"
  },
  "language_info": {
   "codemirror_mode": {
    "name": "ipython",
    "version": 3
   },
   "file_extension": ".py",
   "mimetype": "text/x-python",
   "name": "python",
   "nbconvert_exporter": "python",
   "pygments_lexer": "ipython3",
   "version": "3.11.9"
  }
 },
 "nbformat": 4,
 "nbformat_minor": 2
}
