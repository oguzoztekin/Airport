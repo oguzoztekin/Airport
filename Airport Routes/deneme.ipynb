{
 "cells": [
  {
   "cell_type": "code",
   "execution_count": 8,
   "metadata": {},
   "outputs": [],
   "source": [
    "import pandas as pd\n",
    "\n",
    "key_to_df = pd.read_excel('key_to.xlsx')  \n",
    "country_list_df = pd.read_csv('country-list.csv')  \n",
    "\n",
    "key_to_df['Is_Capital'] = key_to_df['city'].apply(lambda city: 'Yes' if city in country_list_df['capital'].values else 'No')\n",
    "\n",
    "key_to_df.to_excel('updated_key_to.xlsx', index=False)\n"
   ]
  },
  {
   "cell_type": "code",
   "execution_count": 11,
   "metadata": {},
   "outputs": [
    {
     "name": "stdout",
     "output_type": "stream",
     "text": [
      "DataFrame has been saved to 'updated_key_with_population.xlsx'\n"
     ]
    }
   ],
   "source": [
    "\n",
    "population_df = pd.read_excel('Populations.xlsx')  # Update with your file path\n",
    "updated_key_to_df = pd.read_excel('updated_key_to.xlsx')  # Update with your file path\n",
    "\n",
    "\n",
    "# Remove duplicates from population data based on the 'city' column\n",
    "population_df = population_df.drop_duplicates(subset=['city'])\n",
    "\n",
    "# Merge the population data with the updated key data based on the 'city' column\n",
    "updated_df = updated_key_to_df.merge(population_df[['city', 'population', 'lat', 'lng']], \n",
    "                                     left_on='city', right_on='city', how='left')\n",
    "\n",
    "# Save the updated DataFrame to a new Excel file\n",
    "updated_df.to_excel('a.xlsx', index=False)\n",
    "\n"
   ]
  }
 ],
 "metadata": {
  "kernelspec": {
   "display_name": "Python 3",
   "language": "python",
   "name": "python3"
  },
  "language_info": {
   "codemirror_mode": {
    "name": "ipython",
    "version": 3
   },
   "file_extension": ".py",
   "mimetype": "text/x-python",
   "name": "python",
   "nbconvert_exporter": "python",
   "pygments_lexer": "ipython3",
   "version": "3.11.9"
  }
 },
 "nbformat": 4,
 "nbformat_minor": 2
}
